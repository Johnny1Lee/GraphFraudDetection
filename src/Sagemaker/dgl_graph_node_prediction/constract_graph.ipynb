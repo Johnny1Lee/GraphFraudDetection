{
 "cells": [
  {
   "cell_type": "code",
   "execution_count": 2,
   "metadata": {},
   "outputs": [],
   "source": [
    "import os\n",
    "\n",
    "os.environ['DGLBACKEND'] = \"pytorch\"\n",
    "import dgl\n",
    "import torch\n",
    "import pandas as pd\n",
    "from dgl.data import DGLDataset\n",
    "import networkx as nx"
   ]
  },
  {
   "cell_type": "code",
   "execution_count": null,
   "metadata": {},
   "outputs": [],
   "source": [
    "def parse_edgelist(edges, id_to_node, header=False, source_type='user', sink_type='user'):\n",
    "    \"\"\"\n",
    "    Parse an edgelist path file and return the edges as a list of tuple\n",
    "    :param edges: path to comma separated file containing bipartite edges with header for edgetype\n",
    "    :param id_to_node: dictionary containing mapping for node names(id) to dgl node indices\n",
    "    :param header: boolean whether or not the file has a header row\n",
    "    :param source_type: type of the source node in the edge. defaults to 'user' if no header\n",
    "    :param sink_type: type of the sink node in the edge. defaults to 'user' if no header.\n",
    "    :return: (list, dict) a list containing edges of a single relationship type as tuples and updated id_to_node dict.\n",
    "    \"\"\"\n",
    "    edge_list = []\n",
    "    source_pointer, sink_pointer = 0, 0\n",
    "    with open(edges, \"r\") as fh:\n",
    "        for i, line in enumerate(fh):\n",
    "            source, sink = line.strip().split(\",\")\n",
    "            if i == 0:\n",
    "                if header:\n",
    "                    source_type, sink_type = source, sink\n",
    "                if source_type in id_to_node:\n",
    "                    source_pointer = max(id_to_node[source_type].values()) + 1\n",
    "                if sink_type in id_to_node:\n",
    "                    sink_pointer = max(id_to_node[sink_type].values()) + 1\n",
    "                continue\n",
    "\n",
    "            source_node, id_to_node, source_pointer = _get_node_idx(id_to_node, source_type, source, source_pointer)\n",
    "            if source_type == sink_type:\n",
    "                sink_node, id_to_node, source_pointer = _get_node_idx(id_to_node, sink_type, sink, source_pointer)\n",
    "            else:\n",
    "                sink_node, id_to_node, sink_pointer = _get_node_idx(id_to_node, sink_type, sink, sink_pointer)\n",
    "\n",
    "            edge_list.append((source_node, sink_node))\n",
    "\n",
    "    return edge_list, id_to_node, source_type, sink_type"
   ]
  },
  {
   "cell_type": "code",
   "execution_count": null,
   "metadata": {},
   "outputs": [],
   "source": [
    "def get_features(node_feature_file_path):\n",
    "    \"\"\"\n",
    "    get node features\n",
    "    return: node feature matrix in order\n",
    "    \"\"\"\n",
    "    for node_file in node_feature_file_path:\n",
    "        is_1st_line = True\n",
    "        with open(node_file, \"r\") as fh:\n",
    "            for line in fh:\n",
    "                if is_1st_line:\n",
    "                    is_1st_line = False\n",
    "                \n",
    "                node_feats = line.strip().split(\",\")"
   ]
  },
  {
   "cell_type": "code",
   "execution_count": null,
   "metadata": {},
   "outputs": [],
   "source": [
    "def build_graph_bipartite():\n",
    "    "
   ]
  },
  {
   "attachments": {},
   "cell_type": "markdown",
   "metadata": {},
   "source": [
    "1. We built a map to assign a node_id to each merchant or customer.\n",
    "2. Multiple transactions are aggregated in a single transaction.\n",
    "3. The networkx function, nx.from_edgelist, is used to build the networkx graph.\n",
    "4. Two attributes, namely, weight and label, are assigned to each edge. The former represents the total number of transactions between the two nodes, whereas the latter indicates whether the transaction is genuine or fraudulent."
   ]
  },
  {
   "cell_type": "code",
   "execution_count": null,
   "metadata": {},
   "outputs": [],
   "source": [
    "# Create a graph in NetworkX\n",
    "G_nx = nx.build_graph_bipartite()\n",
    "\n",
    "# Convert the NetworkX graph into a DGL graph\n",
    "G_dgl = dgl.from_networkx(G_nx)"
   ]
  }
 ],
 "metadata": {
  "kernelspec": {
   "display_name": "fraud_detection",
   "language": "python",
   "name": "python3"
  },
  "language_info": {
   "codemirror_mode": {
    "name": "ipython",
    "version": 3
   },
   "file_extension": ".py",
   "mimetype": "text/x-python",
   "name": "python",
   "nbconvert_exporter": "python",
   "pygments_lexer": "ipython3",
   "version": "3.9.15"
  },
  "orig_nbformat": 4
 },
 "nbformat": 4,
 "nbformat_minor": 2
}
