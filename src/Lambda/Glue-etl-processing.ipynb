{
 "cells": [
  {
   "cell_type": "code",
   "execution_count": 2,
   "metadata": {},
   "outputs": [],
   "source": [
    "import boto3\n",
    "import json\n",
    "import os"
   ]
  },
  {
   "cell_type": "code",
   "execution_count": null,
   "metadata": {},
   "outputs": [],
   "source": [
    "glue = boto3.client(service_name='glue', region_name='us-east-1',\n",
    "              endpoint_url='https://glue.us-east-1.amazonaws.com')"
   ]
  },
  {
   "cell_type": "code",
   "execution_count": null,
   "metadata": {},
   "outputs": [],
   "source": [
    "myJob = glue.create_job(Name='sample', Role='Glue_DefaultRole',\n",
    "                          Command={'Name': 'glueetl',\n",
    "                                   'ScriptLocation': 's3://my_script_bucket/scripts/my_etl_script.py'})"
   ]
  },
  {
   "cell_type": "code",
   "execution_count": null,
   "metadata": {},
   "outputs": [],
   "source": [
    "def lambda_handler(event, context):\n",
    "    client = boto3.client('glue')\n",
    "    response = client.start_job_run(JobName=myJob['Name'])\n",
    "    status = glue.get_job_run(JobName=myJob['Name'], RunId=response['JobRunId'])\n",
    "    return {\n",
    "        'statusCode': status,\n",
    "        'body': response\n",
    "    }\n"
   ]
  }
 ],
 "metadata": {
  "kernelspec": {
   "display_name": "fraud_detection",
   "language": "python",
   "name": "python3"
  },
  "language_info": {
   "codemirror_mode": {
    "name": "ipython",
    "version": 3
   },
   "file_extension": ".py",
   "mimetype": "text/x-python",
   "name": "python",
   "nbconvert_exporter": "python",
   "pygments_lexer": "ipython3",
   "version": "3.9.15"
  },
  "orig_nbformat": 4
 },
 "nbformat": 4,
 "nbformat_minor": 2
}
